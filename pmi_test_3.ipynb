{
 "cells": [
  {
   "cell_type": "code",
   "execution_count": 1,
   "metadata": {},
   "outputs": [],
   "source": [
    "import os\n",
    "import json\n",
    "import csv\n",
    "import pandas as pd\n",
    "import numpy as np"
   ]
  },
  {
   "cell_type": "markdown",
   "metadata": {},
   "source": [
    "<h3>Preprocess the data</h3>"
   ]
  },
  {
   "cell_type": "markdown",
   "metadata": {},
   "source": [
    "ingest json and extract type of establsishment data, flatten to data frame"
   ]
  },
  {
   "cell_type": "code",
   "execution_count": 2,
   "metadata": {},
   "outputs": [],
   "source": [
    "os.chdir('D:/in/cv/pmit/UseCase_3_Datasets/')\n",
    "\n",
    "with open('Surroundings.json', 'r') as f:\n",
    "    j = json.load(f)\n",
    "\n",
    "d = []\n",
    "\n",
    "for i in j:\n",
    "    s = i['surroundings']\n",
    "    for k, v in s.items():\n",
    "        if len(v) > 0:\n",
    "            for x in v:\n",
    "                d.append([i['store_code'], k, x['place_id'], x['name']])\n",
    "\n",
    "data = pd.DataFrame(d, columns=['store_code','type','id','name'])                "
   ]
  },
  {
   "cell_type": "markdown",
   "metadata": {},
   "source": [
    "recode values to reduce dimensionality and produce easily interpretable predictors"
   ]
  },
  {
   "cell_type": "code",
   "execution_count": 3,
   "metadata": {},
   "outputs": [],
   "source": [
    "recode = {\n",
    " 'accounting':'finance',\n",
    " 'airport':'transport',\n",
    " 'amusement_park':'entertainment',\n",
    " 'aquarium':'recreational',\n",
    " 'art_gallery':'culture',\n",
    " 'atm':'finance',\n",
    " 'bakery':'catering',\n",
    " 'bank':'finance',\n",
    " 'bar':'catering',\n",
    " 'beauty_salon':'services',\n",
    " 'bicycle_store':'retail',\n",
    " 'book_store':'retail',\n",
    " 'bowling_alley':'entertainment',\n",
    " 'bus_station':'transport',\n",
    " 'cafe':'catering',\n",
    " 'campground':'recreational',\n",
    " 'car_dealer':'automotive',\n",
    " 'car_rental':'automotive',\n",
    " 'car_repair':'automotive',\n",
    " 'car_wash':'automotive',\n",
    " 'casino':'entertainment',\n",
    " 'cemetery':'ritual',\n",
    " 'church':'ritual',\n",
    " 'city_hall':'governmental',\n",
    " 'clothing_store':'retail',\n",
    " 'convenience_store':'retail',\n",
    " 'courthouse':'governmental',\n",
    " 'dentist':'medical',\n",
    " 'department_store':'retail',\n",
    " 'doctor':'medical',\n",
    " 'electrician':'services',\n",
    " 'electronics_store':'retail',\n",
    " 'embassy':'governmental',\n",
    " 'fire_station':'governmental',\n",
    " 'florist':'retail',\n",
    " 'funeral_home':'ritual',\n",
    " 'furniture_store':'retail',\n",
    " 'gas_station':'automotive',\n",
    " 'gym':'recreational',\n",
    " 'hair_care':'services',\n",
    " 'hardware_store':'retail',\n",
    " 'home_goods_store':'retail',\n",
    " 'hospital':'medical',\n",
    " 'insurance_agency':'finance',\n",
    " 'jewelry_store':'retail',\n",
    " 'laundry':'services',\n",
    " 'lawyer':'services',\n",
    " 'library':'culture',\n",
    " 'liquor_store':'retail',\n",
    " 'local_government_office':'governmental',\n",
    " 'locksmith':'services',\n",
    " 'lodging':'lodging',\n",
    " 'meal_delivery':'catering',\n",
    " 'meal_takeaway':'catering',\n",
    " 'mosque':'retail',\n",
    " 'movie_rental':'entertainment',\n",
    " 'movie_theater':'entertainment',\n",
    " 'moving_company':'services',\n",
    " 'museum':'culture',\n",
    " 'night_club':'entertainment',\n",
    " 'painter':'services',\n",
    " 'park':'recreational',\n",
    " 'parking':'automotive',\n",
    " 'pet_store':'retail',\n",
    " 'pharmacy':'medical',\n",
    " 'physiotherapist':'medical',\n",
    " 'plumber':'services',\n",
    " 'police':'governmental',\n",
    " 'post_office':'governmental',\n",
    " 'real_estate_agency':'services',\n",
    " 'restaurant':'catering',\n",
    " 'roofing_contractor':'services',\n",
    " 'shoe_store':'retail',\n",
    " 'shopping_mall':'retail',\n",
    " 'spa':'recreational',\n",
    " 'stadium':'entertainment',\n",
    " 'storage':'services',\n",
    " 'store':'retail',\n",
    " 'subway_station':'transport',\n",
    " 'synagogue':'ritual',\n",
    " 'taxi_stand':'transport',\n",
    " 'train_station':'transport',\n",
    " 'transit_station':'transport',\n",
    " 'travel_agency':'services',\n",
    " 'university':'culture',\n",
    " 'veterinary_care':'services',\n",
    " 'zoo':'recreational'}\n",
    "data['category']=data['type']\n",
    "data['category'].replace(recode, inplace=True)"
   ]
  },
  {
   "cell_type": "markdown",
   "metadata": {},
   "source": [
    "deduplicate"
   ]
  },
  {
   "cell_type": "code",
   "execution_count": 4,
   "metadata": {},
   "outputs": [],
   "source": [
    "data = data.drop_duplicates(['store_code','id'])"
   ]
  },
  {
   "cell_type": "markdown",
   "metadata": {},
   "source": [
    "aggregate the data by store code and category of establishment, summarize the number of establishments by category"
   ]
  },
  {
   "cell_type": "code",
   "execution_count": 6,
   "metadata": {},
   "outputs": [],
   "source": [
    "data_a1 = data[['store_code','category']].copy()\n",
    "data_a1['n'] = 1\n",
    "\n",
    "data_a2 = data_a1.groupby(['store_code','category']).sum().unstack()\n",
    "data_a2 = data_a2.fillna(0)\n",
    "\n",
    "data_a2.columns = data_a2.columns.droplevel()\n",
    "data_a2.reset_index(inplace=True)"
   ]
  },
  {
   "cell_type": "markdown",
   "metadata": {},
   "source": [
    "get number of establishments, aggregate by store code "
   ]
  },
  {
   "cell_type": "code",
   "execution_count": 8,
   "metadata": {},
   "outputs": [],
   "source": [
    "d_total = data_a1.groupby(['store_code']).sum().reset_index()\n",
    "d_total.columns = ['store_code','total number of establishments']"
   ]
  },
  {
   "cell_type": "markdown",
   "metadata": {},
   "source": [
    "ingest sales data"
   ]
  },
  {
   "cell_type": "code",
   "execution_count": 9,
   "metadata": {},
   "outputs": [],
   "source": [
    "sales = pd.read_csv('sales_granular.csv')\n",
    "ss = sales.melt(id_vars='store_code',var_name='time',value_name='vol')\n",
    "ss['time'] = pd.to_datetime(ss['time'], format='%m/%d/%y %H:%M')\n",
    "ss['date'] = ss['time'].dt.date"
   ]
  },
  {
   "cell_type": "markdown",
   "metadata": {},
   "source": [
    "aggregate sales data by date"
   ]
  },
  {
   "cell_type": "code",
   "execution_count": 13,
   "metadata": {},
   "outputs": [],
   "source": [
    "ss = ss[['store_code','date','vol']]\n",
    "ss1 = ss.groupby(['store_code','date']).sum()\n",
    "ss1 = ss1.loc[ss1['vol'] > 0]"
   ]
  },
  {
   "cell_type": "markdown",
   "metadata": {},
   "source": [
    "aggregate and create target variable - <b>average daily sales volume</b> (averaging only across days with sales data available)"
   ]
  },
  {
   "cell_type": "code",
   "execution_count": 14,
   "metadata": {},
   "outputs": [],
   "source": [
    "ss2 = ss1.groupby(['store_code']).mean()\n",
    "ss2 = ss2.reset_index()"
   ]
  },
  {
   "cell_type": "markdown",
   "metadata": {},
   "source": [
    "filter out outliers by MAD*3"
   ]
  },
  {
   "cell_type": "code",
   "execution_count": 27,
   "metadata": {},
   "outputs": [
    {
     "name": "stdout",
     "output_type": "stream",
     "text": [
      "Mean Absolute Deviation for sales volume:  199.4\n"
     ]
    }
   ],
   "source": [
    "print(f'Mean Absolute Deviation for sales volume:  {ss2.vol.mad():03.1f}')\n",
    "sales_clean = ss2[ss2.vol <= 3*ss2.vol.mad()]"
   ]
  },
  {
   "cell_type": "markdown",
   "metadata": {},
   "source": [
    "merge datasets to ensure data integrity"
   ]
  },
  {
   "cell_type": "code",
   "execution_count": 28,
   "metadata": {},
   "outputs": [],
   "source": [
    "data_clean = pd.merge(data_a2,d_total,on='store_code',how='inner')\n",
    "fullset = pd.merge(sales_clean,data_clean,on='store_code',how='inner')"
   ]
  },
  {
   "cell_type": "markdown",
   "metadata": {},
   "source": [
    "<h3>Random Forest</h3>"
   ]
  },
  {
   "cell_type": "code",
   "execution_count": 29,
   "metadata": {},
   "outputs": [],
   "source": [
    "from sklearn.ensemble import RandomForestRegressor as RFR\n",
    "from sklearn.model_selection import train_test_split as tts"
   ]
  },
  {
   "cell_type": "markdown",
   "metadata": {},
   "source": [
    "create train and test (20%) datasets"
   ]
  },
  {
   "cell_type": "code",
   "execution_count": 32,
   "metadata": {},
   "outputs": [],
   "source": [
    "train, test = tts(fullset, test_size=0.2,random_state=123)"
   ]
  },
  {
   "cell_type": "markdown",
   "metadata": {},
   "source": [
    "make datasets with predictors and target on training data"
   ]
  },
  {
   "cell_type": "code",
   "execution_count": 33,
   "metadata": {},
   "outputs": [],
   "source": [
    "X = train.drop(['store_code','vol',],axis=1)\n",
    "Y = train['vol']"
   ]
  },
  {
   "cell_type": "markdown",
   "metadata": {},
   "source": [
    "train the model"
   ]
  },
  {
   "cell_type": "code",
   "execution_count": 39,
   "metadata": {},
   "outputs": [],
   "source": [
    "rf = RFR(1000, oob_score=True,random_state=104).fit(X, Y)"
   ]
  },
  {
   "cell_type": "markdown",
   "metadata": {},
   "source": [
    "output feature importance table"
   ]
  },
  {
   "cell_type": "code",
   "execution_count": 40,
   "metadata": {},
   "outputs": [
    {
     "data": {
      "text/html": [
       "<div>\n",
       "<style scoped>\n",
       "    .dataframe tbody tr th:only-of-type {\n",
       "        vertical-align: middle;\n",
       "    }\n",
       "\n",
       "    .dataframe tbody tr th {\n",
       "        vertical-align: top;\n",
       "    }\n",
       "\n",
       "    .dataframe thead th {\n",
       "        text-align: right;\n",
       "    }\n",
       "</style>\n",
       "<table border=\"1\" class=\"dataframe\">\n",
       "  <thead>\n",
       "    <tr style=\"text-align: right;\">\n",
       "      <th></th>\n",
       "      <th>feature</th>\n",
       "      <th>importance</th>\n",
       "    </tr>\n",
       "  </thead>\n",
       "  <tbody>\n",
       "    <tr>\n",
       "      <th>7</th>\n",
       "      <td>medical</td>\n",
       "      <td>12.1</td>\n",
       "    </tr>\n",
       "    <tr>\n",
       "      <th>2</th>\n",
       "      <td>culture</td>\n",
       "      <td>11.8</td>\n",
       "    </tr>\n",
       "    <tr>\n",
       "      <th>0</th>\n",
       "      <td>automotive</td>\n",
       "      <td>10.1</td>\n",
       "    </tr>\n",
       "    <tr>\n",
       "      <th>1</th>\n",
       "      <td>catering</td>\n",
       "      <td>9.1</td>\n",
       "    </tr>\n",
       "    <tr>\n",
       "      <th>13</th>\n",
       "      <td>total number of establishments</td>\n",
       "      <td>8.9</td>\n",
       "    </tr>\n",
       "    <tr>\n",
       "      <th>9</th>\n",
       "      <td>retail</td>\n",
       "      <td>8.6</td>\n",
       "    </tr>\n",
       "    <tr>\n",
       "      <th>12</th>\n",
       "      <td>transport</td>\n",
       "      <td>7.0</td>\n",
       "    </tr>\n",
       "    <tr>\n",
       "      <th>4</th>\n",
       "      <td>finance</td>\n",
       "      <td>6.9</td>\n",
       "    </tr>\n",
       "    <tr>\n",
       "      <th>10</th>\n",
       "      <td>ritual</td>\n",
       "      <td>5.5</td>\n",
       "    </tr>\n",
       "    <tr>\n",
       "      <th>5</th>\n",
       "      <td>governmental</td>\n",
       "      <td>5.1</td>\n",
       "    </tr>\n",
       "    <tr>\n",
       "      <th>11</th>\n",
       "      <td>services</td>\n",
       "      <td>5.0</td>\n",
       "    </tr>\n",
       "    <tr>\n",
       "      <th>6</th>\n",
       "      <td>lodging</td>\n",
       "      <td>4.0</td>\n",
       "    </tr>\n",
       "    <tr>\n",
       "      <th>8</th>\n",
       "      <td>recreational</td>\n",
       "      <td>3.5</td>\n",
       "    </tr>\n",
       "    <tr>\n",
       "      <th>3</th>\n",
       "      <td>entertainment</td>\n",
       "      <td>2.4</td>\n",
       "    </tr>\n",
       "  </tbody>\n",
       "</table>\n",
       "</div>"
      ],
      "text/plain": [
       "                           feature  importance\n",
       "7                          medical        12.1\n",
       "2                          culture        11.8\n",
       "0                       automotive        10.1\n",
       "1                         catering         9.1\n",
       "13  total number of establishments         8.9\n",
       "9                           retail         8.6\n",
       "12                       transport         7.0\n",
       "4                          finance         6.9\n",
       "10                          ritual         5.5\n",
       "5                     governmental         5.1\n",
       "11                        services         5.0\n",
       "6                          lodging         4.0\n",
       "8                     recreational         3.5\n",
       "3                    entertainment         2.4"
      ]
     },
     "execution_count": 40,
     "metadata": {},
     "output_type": "execute_result"
    }
   ],
   "source": [
    "imps = pd.DataFrame(np.round_(rf.feature_importances_*100,1),X.columns.values).reset_index() \n",
    "imps.columns=['feature','importance']\n",
    "imps.sort_values(by='importance',ascending=False)"
   ]
  },
  {
   "cell_type": "markdown",
   "metadata": {},
   "source": [
    "make datasets with predictors and target on test data"
   ]
  },
  {
   "cell_type": "code",
   "execution_count": 50,
   "metadata": {},
   "outputs": [],
   "source": [
    "X = test.drop(['store_code','vol'],axis=1)\n",
    "Y = test['vol']"
   ]
  },
  {
   "cell_type": "markdown",
   "metadata": {},
   "source": [
    "predict values using model"
   ]
  },
  {
   "cell_type": "code",
   "execution_count": 42,
   "metadata": {},
   "outputs": [],
   "source": [
    "predicted = rf.predict(X)"
   ]
  },
  {
   "cell_type": "markdown",
   "metadata": {},
   "source": [
    "measure model fit"
   ]
  },
  {
   "cell_type": "code",
   "execution_count": 43,
   "metadata": {},
   "outputs": [
    {
     "name": "stdout",
     "output_type": "stream",
     "text": [
      "Out-of-bag R² estimate: -0.211\n",
      "R² score:  0.84\n",
      "Spearman coef.: 0.893\n",
      "Pearson coef.: 0.969\n"
     ]
    }
   ],
   "source": [
    "from sklearn.metrics import r2_score\n",
    "from scipy.stats import spearmanr, pearsonr\n",
    "\n",
    "test_score = r2_score(Y, predicted)\n",
    "spearman = spearmanr(Y, predicted)\n",
    "pearson = pearsonr(Y, predicted)\n",
    "\n",
    "print(f'Out-of-bag R\\u00b2 estimate: {rf.oob_score_:>5.3}')\n",
    "print(f'R\\u00b2 score: {test_score:>5.3}')\n",
    "print(f'Spearman coef.: {spearman[0]:.3}')\n",
    "print(f'Pearson coef.: {pearson[0]:.3}')"
   ]
  },
  {
   "cell_type": "markdown",
   "metadata": {},
   "source": [
    "plot model fit"
   ]
  },
  {
   "cell_type": "code",
   "execution_count": 49,
   "metadata": {},
   "outputs": [
    {
     "data": {
      "text/plain": [
       "Text(0,0.5,'predicted')"
      ]
     },
     "execution_count": 49,
     "metadata": {},
     "output_type": "execute_result"
    },
    {
     "data": {
      "image/png": "[encoded data removed]",
      "text/plain": [
       "<Figure size 432x288 with 1 Axes>"
      ]
     },
     "metadata": {},
     "output_type": "display_data"
    }
   ],
   "source": [
    "import matplotlib.pyplot as plt\n",
    "plt.scatter(Y,predicted)\n",
    "plt.xlabel('observed')\n",
    "plt.ylabel('predicted')"
   ]
  }
 ],
 "metadata": {
  "kernelspec": {
   "display_name": "Python 3",
   "language": "python",
   "name": "python3"
  },
  "language_info": {
   "codemirror_mode": {
    "name": "ipython",
    "version": 3
   },
   "file_extension": ".py",
   "mimetype": "text/x-python",
   "name": "python",
   "nbconvert_exporter": "python",
   "pygments_lexer": "ipython3",
   "version": "3.6.4"
  }
 },
 "nbformat": 4,
 "nbformat_minor": 2
}
